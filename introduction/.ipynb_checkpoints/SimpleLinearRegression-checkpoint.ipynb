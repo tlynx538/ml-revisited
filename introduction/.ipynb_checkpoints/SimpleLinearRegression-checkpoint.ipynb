{
 "cells": [
  {
   "cell_type": "markdown",
   "id": "3f651aec-5484-4e60-81e4-f8bb3aa9d1a6",
   "metadata": {},
   "source": [
    "# Linear Regression"
   ]
  },
  {
   "cell_type": "markdown",
   "id": "4ab4fb78-be68-4494-8f7e-f8bc37441f91",
   "metadata": {},
   "source": [
    "Adapted from [STAT 501](https://online.stat.psu.edu/stat501/lesson/1)\n",
    "#### A statistical method that allows us to summarize and study relationships between two continuous variables:\n",
    "\n",
    "- X is denoted as predictor, explanatory or independent variable\n",
    "- y is target variable or response variable"
   ]
  },
  {
   "cell_type": "markdown",
   "id": "70245a54-5a71-429f-985a-555c936235a8",
   "metadata": {},
   "source": [
    "Types of relationships\n",
    "\n",
    "- Deterministic: where there are fixed constants within the relationship between the input and output variables, then the output can be determined\n",
    "    Examples:  Temperature Conversion, Hooke’s Law, the Circumference of circle etc \n",
    "    \n",
    "- Statistical: Where relationships between data points indicate that there is some correlation but is not fixed and is dependent on the data point’s factors\n",
    "    Example: Height vs Weight, Skin Cancer Mortality vs State Latitude"
   ]
  },
  {
   "cell_type": "markdown",
   "id": "120dd12e-102a-4177-ba7f-2de23c5bc410",
   "metadata": {},
   "source": [
    "##### There are four conditions that comprise the Simple Linear Regression Model"
   ]
  },
  {
   "cell_type": "markdown",
   "id": "c5951d91-0e48-479b-8ebc-97e8ed3529e9",
   "metadata": {},
   "source": [
    "- <b>Linear Function</b>: The mean response, ($E(Y_i)$) at each value of the predictor, $x_i$, is a linear function of the $x_i$.\n",
    "- <b>Independent</b>: The errors, $\\epsilon_{i}$ is independent.\n",
    "- <b>Normally Distributed</b>: The errors, $\\epsilon_{i}$ at each value of the predictor, $x_i$ are normally distributed\n",
    "- <b>Equal Variances (denoted $\\sigma^2$)</b>: The errors, $\\epsilon_{i}$ at each value of the predictor have equal variances."
   ]
  },
  {
   "cell_type": "markdown",
   "id": "623abe74-3587-4b26-b11d-77fe60802643",
   "metadata": {},
   "source": [
    "## Part 1: Using Ordinary Least Squares"
   ]
  },
  {
   "cell_type": "markdown",
   "id": "8ecf84ce-0621-4bf3-b691-f1e5942e106e",
   "metadata": {},
   "source": [
    "##### Our objective is basically to find the closest line that is as near as possible to the scatter plots."
   ]
  },
  {
   "cell_type": "markdown",
   "id": "70cfea1a-bf45-4dc6-8173-1c1c842359a7",
   "metadata": {},
   "source": [
    "#### We will now obtain a dataset to find relationship between height and weight"
   ]
  },
  {
   "cell_type": "code",
   "execution_count": 1,
   "id": "842a76e0-bde8-4296-b6ee-1e623e8b5714",
   "metadata": {},
   "outputs": [],
   "source": [
    "import matplotlib.pyplot as plt\n",
    "import pandas as pd \n",
    "import numpy as np"
   ]
  },
  {
   "cell_type": "code",
   "execution_count": 2,
   "id": "e9889178-8029-4649-a0dc-8a2791aa29f9",
   "metadata": {},
   "outputs": [
    {
     "name": "stdout",
     "output_type": "stream",
     "text": [
      "  % Total    % Received % Xferd  Average Speed   Time    Time     Time  Current\n",
      "                                 Dload  Upload   Total   Spent    Left  Speed\n",
      "100    75  100    75    0     0    187      0 --:--:-- --:--:-- --:--:--   187\n"
     ]
    }
   ],
   "source": [
    "!curl -O 'https://online.stat.psu.edu/onlinecourses/sites/stat501/files/data/student_height_weight.txt'"
   ]
  },
  {
   "cell_type": "code",
   "execution_count": 3,
   "id": "5adb118f-4c99-43b7-a082-fea44350a632",
   "metadata": {},
   "outputs": [],
   "source": [
    "df = pd.read_csv('student_height_weight.txt',sep='\\t')"
   ]
  },
  {
   "cell_type": "code",
   "execution_count": 4,
   "id": "89d1e834-dccd-49e1-9c5e-cccbe5b90833",
   "metadata": {},
   "outputs": [
    {
     "data": {
      "text/html": [
       "<div>\n",
       "<style scoped>\n",
       "    .dataframe tbody tr th:only-of-type {\n",
       "        vertical-align: middle;\n",
       "    }\n",
       "\n",
       "    .dataframe tbody tr th {\n",
       "        vertical-align: top;\n",
       "    }\n",
       "\n",
       "    .dataframe thead th {\n",
       "        text-align: right;\n",
       "    }\n",
       "</style>\n",
       "<table border=\"1\" class=\"dataframe\">\n",
       "  <thead>\n",
       "    <tr style=\"text-align: right;\">\n",
       "      <th></th>\n",
       "      <th>ht</th>\n",
       "      <th>wt</th>\n",
       "    </tr>\n",
       "  </thead>\n",
       "  <tbody>\n",
       "    <tr>\n",
       "      <th>0</th>\n",
       "      <td>63</td>\n",
       "      <td>127</td>\n",
       "    </tr>\n",
       "    <tr>\n",
       "      <th>1</th>\n",
       "      <td>64</td>\n",
       "      <td>121</td>\n",
       "    </tr>\n",
       "    <tr>\n",
       "      <th>2</th>\n",
       "      <td>66</td>\n",
       "      <td>142</td>\n",
       "    </tr>\n",
       "    <tr>\n",
       "      <th>3</th>\n",
       "      <td>69</td>\n",
       "      <td>157</td>\n",
       "    </tr>\n",
       "    <tr>\n",
       "      <th>4</th>\n",
       "      <td>69</td>\n",
       "      <td>162</td>\n",
       "    </tr>\n",
       "  </tbody>\n",
       "</table>\n",
       "</div>"
      ],
      "text/plain": [
       "   ht   wt\n",
       "0  63  127\n",
       "1  64  121\n",
       "2  66  142\n",
       "3  69  157\n",
       "4  69  162"
      ]
     },
     "execution_count": 4,
     "metadata": {},
     "output_type": "execute_result"
    }
   ],
   "source": [
    "df.head()"
   ]
  },
  {
   "cell_type": "code",
   "execution_count": 5,
   "id": "710bbc60-737b-4bc0-9cea-5827311ce21d",
   "metadata": {},
   "outputs": [
    {
     "data": {
      "image/png": "[encoded data removed]",
      "text/plain": [
       "<Figure size 640x480 with 1 Axes>"
      ]
     },
     "metadata": {},
     "output_type": "display_data"
    }
   ],
   "source": [
    "plt.scatter(df.ht, df.wt)\n",
    "plt.xlabel('Height')\n",
    "plt.ylabel('Weight')\n",
    "plt.show()"
   ]
  },
  {
   "cell_type": "markdown",
   "id": "c7725353-49e3-4651-bdb9-71fd78b2048f",
   "metadata": {},
   "source": [
    "In order to plot a line that goes through these points, we can use the following formula\n",
    "\n",
    "$$y = mx + b$$\n",
    "\n",
    "where, $m$ = slope, $b$ = bias or y-intercept\n",
    "\n",
    "Here $x$ is the predictor and $y$ is response variable"
   ]
  },
  {
   "cell_type": "markdown",
   "id": "aac7d14b-0419-4315-b631-e875f37f76cc",
   "metadata": {},
   "source": [
    "The above formula can be also written as,\n",
    "\n",
    "$$y = b_{1}x+b_{0}$$"
   ]
  },
  {
   "cell_type": "markdown",
   "id": "79342f8a-9355-4c5f-b0d8-e501e449f897",
   "metadata": {},
   "source": [
    "We can substitute $b_1$  with the following \n",
    "\n",
    "$$b_1 = \\frac{\\sum_{i=1}^{n}{(x_i-\\overline{x})}{(y_i-\\overline{y})}}{\\sum_{i=1}^{n}(x-\\overline{x})^2}$$"
   ]
  },
  {
   "cell_type": "markdown",
   "id": "a7758bab-6823-447d-b71f-548ac9f244a5",
   "metadata": {},
   "source": [
    "where $\\overline{x}$ and $\\overline{y}$ represents average of $x$ and average of $y$  "
   ]
  },
  {
   "cell_type": "markdown",
   "id": "4783fad5-3fd0-4420-b1a7-3be412a2350e",
   "metadata": {},
   "source": [
    "and $b_0$ becomes,\n",
    "$$b_0 = \\overline{y} - b_{1}\\overline{x}$$"
   ]
  },
  {
   "cell_type": "code",
   "execution_count": 6,
   "id": "74089f1c-d140-4964-b8b7-a327e95e7ef4",
   "metadata": {},
   "outputs": [],
   "source": [
    "# assigning variables\n",
    "X = df.ht\n",
    "y = df.wt\n",
    "\n",
    "n = X.shape[0]\n",
    "\n",
    "x_avg = np.average(X)\n",
    "y_avg = np.average(y)"
   ]
  },
  {
   "cell_type": "markdown",
   "id": "a43f5713-87e4-47d4-b9c2-dd0fd28ffa47",
   "metadata": {},
   "source": [
    "### Calculating Coefficients"
   ]
  },
  {
   "cell_type": "code",
   "execution_count": 7,
   "id": "606adb94-8b0b-43b1-b871-75b6bdbcb6cb",
   "metadata": {},
   "outputs": [
    {
     "data": {
      "text/plain": [
       "6.137581462708183"
      ]
     },
     "execution_count": 7,
     "metadata": {},
     "output_type": "execute_result"
    }
   ],
   "source": [
    "b1 = np.dot(X-x_avg,y-y_avg)/np.sum((X-x_avg)**2)\n",
    "b1"
   ]
  },
  {
   "cell_type": "code",
   "execution_count": 8,
   "id": "2a020e5e-91b3-41bd-9b77-161efa2038e0",
   "metadata": {},
   "outputs": [
    {
     "data": {
      "text/plain": [
       "-266.534395365677"
      ]
     },
     "execution_count": 8,
     "metadata": {},
     "output_type": "execute_result"
    }
   ],
   "source": [
    "b0 = y_avg - (b1*x_avg)\n",
    "b0"
   ]
  },
  {
   "cell_type": "markdown",
   "id": "a2f50e1c-0f32-41a5-b905-8efacbc7b087",
   "metadata": {},
   "source": [
    "### Calculating Slope "
   ]
  },
  {
   "cell_type": "code",
   "execution_count": 9,
   "id": "c256ca8b-3452-490f-9fa8-e5620090994b",
   "metadata": {},
   "outputs": [],
   "source": [
    "y_res = b1*X + b0"
   ]
  },
  {
   "cell_type": "code",
   "execution_count": 10,
   "id": "e01a3441-f702-466c-b342-397366a1bab5",
   "metadata": {},
   "outputs": [
    {
     "data": {
      "text/plain": [
       "0    120.133237\n",
       "1    126.270818\n",
       "2    138.545981\n",
       "3    156.958726\n",
       "4    156.958726\n",
       "5    169.233888\n",
       "6    169.233888\n",
       "7    175.371470\n",
       "8    181.509051\n",
       "9    193.784214\n",
       "Name: ht, dtype: float64"
      ]
     },
     "execution_count": 10,
     "metadata": {},
     "output_type": "execute_result"
    }
   ],
   "source": [
    "y_res"
   ]
  },
  {
   "cell_type": "markdown",
   "id": "3de2f008-08f8-4ff5-b68e-34208916b4b5",
   "metadata": {},
   "source": [
    "### Plotting Graph with new slope"
   ]
  },
  {
   "cell_type": "code",
   "execution_count": 11,
   "id": "8b1d2342-2e11-4a0e-97d3-30f198158687",
   "metadata": {},
   "outputs": [
    {
     "data": {
      "text/plain": [
       "Text(0, 0.5, 'Weight')"
      ]
     },
     "execution_count": 11,
     "metadata": {},
     "output_type": "execute_result"
    },
    {
     "data": {
      "image/png": "[encoded data removed]",
      "text/plain": [
       "<Figure size 640x480 with 1 Axes>"
      ]
     },
     "metadata": {},
     "output_type": "display_data"
    }
   ],
   "source": [
    "plt.plot(X,y_res)\n",
    "plt.scatter(df.ht, df.wt)\n",
    "plt.xlabel('Height')\n",
    "plt.ylabel('Weight')"
   ]
  },
  {
   "cell_type": "markdown",
   "id": "ace6f4c2-8862-42a3-a9e4-a188816ecb57",
   "metadata": {},
   "source": [
    "### Calculating Error"
   ]
  },
  {
   "cell_type": "code",
   "execution_count": 12,
   "id": "2f077a0e-77f0-4bc9-b32a-70997ecd2c0c",
   "metadata": {},
   "outputs": [],
   "source": [
    "mse = (np.sum((y_res - y)**2))/n"
   ]
  },
  {
   "cell_type": "code",
   "execution_count": 13,
   "id": "47f75ac6-386b-442a-a9de-392d8be97aa8",
   "metadata": {},
   "outputs": [
    {
     "data": {
      "text/plain": [
       "59.738595220854464"
      ]
     },
     "execution_count": 13,
     "metadata": {},
     "output_type": "execute_result"
    }
   ],
   "source": [
    "mse"
   ]
  },
  {
   "cell_type": "markdown",
   "id": "882de49e-208f-46db-b5b5-0f5086a99548",
   "metadata": {},
   "source": [
    "#### In order to further reduce the above error, we can employ the use of optimization algorithms such as <b>Gradient Descent</b>  "
   ]
  },
  {
   "cell_type": "markdown",
   "id": "45f9ccf4-ff98-4c46-881e-8acea8a1eef9",
   "metadata": {},
   "source": [
    "#### Gradient Descent allows us to find the closest $b_1$ and $b_0$ value in order to fit the line "
   ]
  },
  {
   "cell_type": "markdown",
   "id": "35917000-0e1a-4af1-a54e-61c7a9b440b5",
   "metadata": {},
   "source": [
    "Derivations Obtained from [Linear Regression in Machine learning](https://www.geeksforgeeks.org/ml-linear-regression/)"
   ]
  },
  {
   "cell_type": "markdown",
   "id": "2241ae3e-5078-4098-bc51-90ed6573ff49",
   "metadata": {},
   "source": [
    "In this methodology, we will continually keep updating the values for $b_1$ and $b_0$ in the slope formula until the epoch ends to find the least error and closest fit to the regression line."
   ]
  },
  {
   "cell_type": "code",
   "execution_count": 18,
   "id": "327f4bb0-d25e-4812-8f1b-ae0bf1f7873b",
   "metadata": {},
   "outputs": [],
   "source": [
    "class LinearRegression:\n",
    "    def __init__(self,b1,b0):\n",
    "        self.b1 = b1\n",
    "        self.b0 = b0\n",
    "        \n",
    "    def mse_(self,y_res,y):\n",
    "        n = y.shape[0]\n",
    "        return (np.sum((y_res - y)**2))/n\n",
    "        \n",
    "    def fit(self,X,y,lr: float = 0.01, epoch: int=100):\n",
    "        error_history = []\n",
    "        self.lr = lr\n",
    "        n = y.shape[0]\n",
    "        for i in range(epoch):\n",
    "            print(f\"Epoch {i}: \",end='')\n",
    "            y_res = self.b1*X+self.b0\n",
    "\n",
    "            mse_ = self.mse_(y_res,y)\n",
    "            print(f\"MSE: {mse_}\")\n",
    "            error_history.append(mse_)\n",
    "            if mse_ is min(error_history):\n",
    "                break\n",
    "            self.b1 = self.b1 - self.lr * ((2/n)*np.dot((np.mean(y_res)-y),X))\n",
    "            self.b0 = self.b0 - self.lr * ((2/n)*np.sum(np.mean(y_res)-y))\n",
    "        return\n",
    "        \n",
    "    def predict(self, X_pred):\n",
    "        return self.b1*X_pred+self.b0   "
   ]
  },
  {
   "cell_type": "code",
   "execution_count": 19,
   "id": "63a385ae-7310-47c1-9ba5-1b45cff2b33a",
   "metadata": {},
   "outputs": [],
   "source": [
    "model = LinearRegression(b1=b1,b0=b0)"
   ]
  },
  {
   "cell_type": "code",
   "execution_count": 20,
   "id": "d7c4cba4-61ac-4bac-b0ec-a8fe03553d20",
   "metadata": {},
   "outputs": [
    {
     "name": "stdout",
     "output_type": "stream",
     "text": [
      "Epoch 0: MSE: 59.738595220854464\n",
      "Epoch 1: MSE: 13900.354546772602\n",
      "Epoch 2: MSE: 122477282.50362054\n",
      "Epoch 3: MSE: 1107229425948.7993\n",
      "Epoch 4: MSE: 1.0007411497751364e+16\n",
      "Epoch 5: MSE: 9.044965805325895e+19\n",
      "Epoch 6: MSE: 8.175081477573132e+23\n",
      "Epoch 7: MSE: 7.38885680951794e+27\n",
      "Epoch 8: MSE: 6.678245972371122e+31\n",
      "Epoch 9: MSE: 6.035976933541649e+35\n"
     ]
    }
   ],
   "source": [
    "model.fit(X,y)"
   ]
  },
  {
   "cell_type": "code",
   "execution_count": 17,
   "id": "dc302de9-1dfd-4b85-8ce8-15006ad627e5",
   "metadata": {},
   "outputs": [
    {
     "data": {
      "text/plain": [
       "(10,)"
      ]
     },
     "execution_count": 17,
     "metadata": {},
     "output_type": "execute_result"
    }
   ],
   "source": [
    "y.shape"
   ]
  },
  {
   "cell_type": "code",
   "execution_count": null,
   "id": "07b51dcc-82f0-4eda-885b-4b5eedc61a1e",
   "metadata": {},
   "outputs": [],
   "source": []
  }
 ],
 "metadata": {
  "kernelspec": {
   "display_name": "Python 3 (ipykernel)",
   "language": "python",
   "name": "python3"
  },
  "language_info": {
   "codemirror_mode": {
    "name": "ipython",
    "version": 3
   },
   "file_extension": ".py",
   "mimetype": "text/x-python",
   "name": "python",
   "nbconvert_exporter": "python",
   "pygments_lexer": "ipython3",
   "version": "3.9.21"
  }
 },
 "nbformat": 4,
 "nbformat_minor": 5
}
